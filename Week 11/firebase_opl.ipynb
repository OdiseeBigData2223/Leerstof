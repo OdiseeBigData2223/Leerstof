{
 "cells": [
  {
   "attachments": {},
   "cell_type": "markdown",
   "metadata": {},
   "source": [
    "# Firebase in python\n",
    "\n",
    "Bestudeer de API van Firebase die je kan vinden op [deze link](https://firebase.google.com/docs/firestore/quickstart).\n",
    "Schrijf de nodige code in de bijhorende onderstaande cellen om de volgende stappen uit te voeren (voer de queries uit in de firestore):\n",
    "\n",
    "* Maak een connectie met firebase vanuit python\n",
    "* Upload alle documenten het restaurants.json bestand naar een collectie op firebase. Zorg ervoor dat de collectie \"restaurants\" noemt en gebruik het id van het restaurant als document identifier. Let er hierbij op dat elke lijn 1 document voor stelt waardoor je dus dit bestand lijn per lijn moet inlezen. Bekijk de data in de cloud firestore console via de website. Kan je de data zien die toegevoegd is?\n",
    "* Selecteer het document in de firestore met restaurant id \"40356731\"\n",
    "* Hoeveel bakkerijken zijn er aanwezig in de datastore?\n",
    "* Zoek alle restauranten met zipcode \"11234\" op\n",
    "* Wat zijn de 5 laatste (op basis van alfabet) restaurants met een \"American\" of \"Italian\" keuken"
   ]
  },
  {
   "cell_type": "code",
   "execution_count": 1,
   "metadata": {},
   "outputs": [],
   "source": [
    "# connecteer met firebase\n",
    "import firebase_admin\n",
    "from firebase_admin import credentials\n",
    "from firebase_admin import firestore\n",
    "\n",
    "# Use a service account.\n",
    "cred = credentials.Certificate('../../bigdata_firebase.json')\n",
    "\n",
    "app = firebase_admin.initialize_app(cred)\n",
    "\n",
    "db = firestore.client()"
   ]
  },
  {
   "cell_type": "code",
   "execution_count": 2,
   "metadata": {},
   "outputs": [],
   "source": [
    "# upload alle documenten uit het restaurants.json bestand\n",
    "import json \n",
    "\n",
    "coll_restaurants = db.collection(\"restaurants\")\n",
    "\n",
    "with open(\"restaurants.json\") as f:\n",
    "    lines = f.readlines()\n",
    "    \n",
    "    for line in lines:\n",
    "        line = json.loads(line)\n",
    "        coll_restaurants.document(line[\"restaurant_id\"]).set(line)"
   ]
  },
  {
   "cell_type": "code",
   "execution_count": 5,
   "metadata": {},
   "outputs": [
    {
     "name": "stdout",
     "output_type": "stream",
     "text": [
      "{'grades': [{'grade': 'A', 'date': {'$date': 1405296000000}, 'score': 12}, {'grade': 'A', 'score': 8, 'date': {'$date': 1373414400000}}, {'score': 5, 'date': {'$date': 1341964800000}, 'grade': 'A'}, {'grade': 'A', 'date': {'$date': 1329955200000}, 'score': 8}], 'address': {'building': '1839', 'coord': [-73.9482609, 40.6408271], 'street': 'Nostrand Avenue', 'zipcode': '11226'}, 'name': 'Taste The Tropics Ice Cream', 'borough': 'Brooklyn', 'cuisine': 'Ice Cream, Gelato, Yogurt, Ices', 'restaurant_id': '40356731'}\n"
     ]
    }
   ],
   "source": [
    "# Selecteer het document in de firestore met restaurant id \"40356731\"\n",
    "print(coll_restaurants.document(\"40356731\").get().to_dict())"
   ]
  },
  {
   "cell_type": "code",
   "execution_count": 7,
   "metadata": {},
   "outputs": [
    {
     "name": "stdout",
     "output_type": "stream",
     "text": [
      "Aantal bakkerijen: 127\n"
     ]
    }
   ],
   "source": [
    "# Hoeveel bakkerijen zijn er aanwezig in de datastore?\n",
    "\n",
    "docs = coll_restaurants.where(u'cuisine', u'==', 'Bakery').get()\n",
    "\n",
    "print(\"Aantal bakkerijen:\", len(docs))"
   ]
  },
  {
   "cell_type": "code",
   "execution_count": 9,
   "metadata": {},
   "outputs": [
    {
     "name": "stdout",
     "output_type": "stream",
     "text": [
      "40356483 => {'restaurant_id': '40356483', 'cuisine': 'Delicatessen', 'address': {'street': 'Avenue U', 'building': '7114', 'coord': [-73.9068506, 40.6199034], 'zipcode': '11234'}, 'borough': 'Brooklyn', 'name': \"Wilken'S Fine Food\", 'grades': [{'score': 10, 'date': {'$date': 1401321600000}, 'grade': 'A'}, {'grade': 'A', 'score': 10, 'date': {'$date': 1389657600000}}, {'date': {'$date': 1375488000000}, 'grade': 'A', 'score': 8}, {'date': {'$date': 1342569600000}, 'grade': 'A', 'score': 10}, {'date': {'$date': 1331251200000}, 'grade': 'A', 'score': 13}, {'grade': 'A', 'score': 9, 'date': {'$date': 1318550400000}}]}\n",
      "40367164 => {'grades': [{'date': {'$date': 1392854400000}, 'score': 10, 'grade': 'A'}, {'date': {'$date': 1372636800000}, 'score': 15, 'grade': 'B'}, {'date': {'$date': 1357776000000}, 'score': 15, 'grade': 'B'}, {'date': {'$date': 1343001600000}, 'score': 11, 'grade': 'A'}, {'score': 7, 'grade': 'A', 'date': {'$date': 1325635200000}}, {'grade': 'C', 'date': {'$date': 1316390400000}, 'score': 34}, {'score': 16, 'date': {'$date': 1302480000000}, 'grade': 'B'}], 'address': {'coord': [-73.9270926, 40.6142428], 'zipcode': '11234', 'street': 'Flatbush Avenue', 'building': '2301'}, 'borough': 'Brooklyn', 'restaurant_id': '40367164', 'cuisine': 'American ', 'name': 'New Floridian Diner'}\n",
      "40368207 => {'grades': [{'score': 11, 'date': {'$date': 1399507200000}, 'grade': 'A'}, {'grade': 'A', 'score': 9, 'date': {'$date': 1378771200000}}, {'date': {'$date': 1346889600000}, 'score': 7, 'grade': 'A'}, {'date': {'$date': 1314748800000}, 'grade': 'A', 'score': 0}], 'name': 'Mill Basin Kosher Deli', 'cuisine': 'Jewish/Kosher', 'address': {'building': '5823', 'coord': [-73.9181846, 40.6157107], 'zipcode': '11234', 'street': 'Avenue T'}, 'borough': 'Brooklyn', 'restaurant_id': '40368207'}\n",
      "40371906 => {'address': {'coord': [-73.9321411, 40.6094715], 'street': 'Avenue S', 'zipcode': '11234', 'building': '3501'}, 'restaurant_id': '40371906', 'name': 'Mariner Inn', 'cuisine': 'American ', 'borough': 'Brooklyn', 'grades': [{'grade': 'A', 'date': {'$date': 1395273600000}, 'score': 10}, {'grade': 'A', 'date': {'$date': 1362700800000}, 'score': 12}, {'date': {'$date': 1344470400000}, 'score': 12, 'grade': 'A'}, {'date': {'$date': 1327968000000}, 'score': 10, 'grade': 'A'}, {'score': 21, 'grade': 'B', 'date': {'$date': 1316649600000}}, {'score': 22, 'grade': 'B', 'date': {'$date': 1302739200000}}]}\n",
      "40374395 => {'name': 'El Caribe', 'cuisine': 'Italian', 'address': {'building': '5945', 'zipcode': '11234', 'coord': [-73.91535139999999, 40.6087346], 'street': 'Strickland Avenue'}, 'restaurant_id': '40374395', 'borough': 'Brooklyn', 'grades': [{'score': 3, 'date': {'$date': 1402444800000}, 'grade': 'A'}, {'date': {'$date': 1370476800000}, 'grade': 'A', 'score': 10}, {'grade': 'A', 'date': {'$date': 1338940800000}, 'score': 13}]}\n",
      "40392766 => {'grades': [{'date': {'$date': 1419206400000}, 'score': 12, 'grade': 'A'}, {'grade': 'A', 'date': {'$date': 1407369600000}, 'score': 11}, {'score': 10, 'grade': 'A', 'date': {'$date': 1392768000000}}, {'date': {'$date': 1377216000000}, 'grade': 'A', 'score': 13}, {'score': 14, 'date': {'$date': 1356652800000}, 'grade': 'B'}], 'address': {'street': 'Avenue U', 'building': '7112', 'coord': [-73.906922, 40.619872], 'zipcode': '11234'}, 'name': 'Bergen Beach Cafe', 'borough': 'Brooklyn', 'cuisine': 'American ', 'restaurant_id': '40392766'}\n",
      "40394028 => {'name': 'Salvi Restaurant', 'cuisine': 'Italian', 'address': {'building': '4220', 'coord': [-73.931917, 40.6175723], 'street': 'Quentin Road', 'zipcode': '11234'}, 'restaurant_id': '40394028', 'grades': [{'date': {'$date': 1404950400000}, 'score': 9, 'grade': 'A'}, {'date': {'$date': 1366848000000}, 'grade': 'A', 'score': 11}, {'score': 10, 'grade': 'A', 'date': {'$date': 1331683200000}}], 'borough': 'Brooklyn'}\n",
      "40394329 => {'name': \"Frank'S Pizza Restaurant\", 'cuisine': 'Pizza', 'address': {'street': 'Flatbush Avenue', 'coord': [-73.9318138, 40.6176659], 'zipcode': '11234', 'building': '2134'}, 'borough': 'Brooklyn', 'restaurant_id': '40394329', 'grades': [{'date': {'$date': 1405641600000}, 'score': 7, 'grade': 'A'}, {'date': {'$date': 1386892800000}, 'score': 13, 'grade': 'A'}, {'date': {'$date': 1369180800000}, 'grade': 'A', 'score': 12}, {'score': 14, 'grade': 'B', 'date': {'$date': 1327968000000}}]}\n",
      "40397625 => {'restaurant_id': '40397625', 'grades': [{'score': 12, 'date': {'$date': 1408579200000}, 'grade': 'A'}, {'date': {'$date': 1396483200000}, 'score': 7, 'grade': 'A'}, {'date': {'$date': 1358294400000}, 'score': 2, 'grade': 'A'}, {'grade': 'A', 'date': {'$date': 1343692800000}, 'score': 13}, {'score': 10, 'grade': 'A', 'date': {'$date': 1331164800000}}, {'grade': 'A', 'score': 12, 'date': {'$date': 1319673600000}}], 'name': 'La Villa Pizzeria', 'borough': 'Brooklyn', 'cuisine': 'Pizza/Italian', 'address': {'coord': [-73.9096593, 40.6168812], 'street': 'Avenue U', 'zipcode': '11234', 'building': '6610'}}\n",
      "40397725 => {'grades': [{'score': 9, 'date': {'$date': 1405987200000}, 'grade': 'A'}, {'grade': 'A', 'score': 12, 'date': {'$date': 1375488000000}}, {'score': 13, 'date': {'$date': 1355702400000}, 'grade': 'A'}, {'grade': 'A', 'score': 5, 'date': {'$date': 1336521600000}}], 'address': {'zipcode': '11234', 'coord': [-73.9160189, 40.6193982], 'street': 'Avenue N', 'building': '6334'}, 'restaurant_id': '40397725', 'borough': 'Brooklyn', 'name': 'Gourmet Grill', 'cuisine': 'Italian'}\n",
      "40398688 => {'name': 'Master Wok', 'cuisine': 'Chinese', 'address': {'street': 'Kings Plaza Shopping Ct', 'zipcode': '11234', 'building': '5100', 'coord': [80.361767, 26.4669033]}, 'restaurant_id': '40398688', 'borough': 'Brooklyn', 'grades': [{'grade': 'A', 'score': 9, 'date': {'$date': 1397001600000}}, {'date': {'$date': 1365033600000}, 'score': 13, 'grade': 'A'}, {'date': {'$date': 1349827200000}, 'score': 17, 'grade': 'B'}, {'date': {'$date': 1336608000000}, 'score': 13, 'grade': 'A'}, {'score': 22, 'grade': 'B', 'date': {'$date': 1319068800000}}]}\n",
      "40400251 => {'cuisine': 'Pizza', 'restaurant_id': '40400251', 'grades': [{'grade': 'A', 'date': {'$date': 1410912000000}, 'score': 2}, {'date': {'$date': 1376524800000}, 'score': 12, 'grade': 'A'}, {'score': 12, 'grade': 'A', 'date': {'$date': 1364774400000}}, {'date': {'$date': 1329955200000}, 'score': 13, 'grade': 'A'}], 'address': {'street': 'Quentin Road', 'building': '3211', 'zipcode': '11234', 'coord': [-73.9395219, 40.6131304]}, 'name': 'Quentin Pizza', 'borough': 'Brooklyn'}\n",
      "40400544 => {'cuisine': 'American ', 'restaurant_id': '40400544', 'address': {'zipcode': '11234', 'building': '1866', 'coord': [-73.91890699999999, 40.631468], 'street': 'Ralph Avenue'}, 'borough': 'Brooklyn', 'name': 'The Arch Diner', 'grades': [{'score': 24, 'date': {'$date': 1413849600000}, 'grade': 'Z'}, {'date': {'$date': 1382486400000}, 'score': 13, 'grade': 'A'}, {'score': 12, 'date': {'$date': 1366329600000}, 'grade': 'A'}, {'date': {'$date': 1349049600000}, 'grade': 'A', 'score': 6}, {'score': 13, 'date': {'$date': 1336521600000}, 'grade': 'A'}, {'score': 15, 'grade': 'B', 'date': {'$date': 1324252800000}}]}\n",
      "40401445 => {'grades': [{'score': 13, 'date': {'$date': 1412553600000}, 'grade': 'A'}, {'date': {'$date': 1381968000000}, 'grade': 'A', 'score': 13}, {'date': {'$date': 1370563200000}, 'score': 12, 'grade': 'A'}, {'grade': 'A', 'score': 5, 'date': {'$date': 1338854400000}}, {'date': {'$date': 1327968000000}, 'grade': 'A', 'score': 4}], 'address': {'zipcode': '11234', 'building': '2101', 'coord': [-73.9175575, 40.6262933], 'street': 'Ralph Avenue'}, 'restaurant_id': '40401445', 'borough': 'Brooklyn', 'cuisine': 'Pancakes/Waffles', 'name': 'Ihop'}\n",
      "40402899 => {'cuisine': 'American ', 'address': {'coord': [-73.923354, 40.6193776], 'zipcode': '11234', 'street': 'Avenue N', 'building': '5313'}, 'restaurant_id': '40402899', 'grades': [{'score': 10, 'date': {'$date': 1418774400000}, 'grade': 'A'}, {'score': 7, 'grade': 'A', 'date': {'$date': 1397692800000}}, {'date': {'$date': 1395705600000}, 'score': 15, 'grade': 'P'}, {'score': 10, 'grade': 'A', 'date': {'$date': 1362700800000}}, {'date': {'$date': 1345680000000}, 'score': 12, 'grade': 'A'}, {'date': {'$date': 1329264000000}, 'score': 12, 'grade': 'A'}], 'name': 'Glen Terrace', 'borough': 'Brooklyn'}\n",
      "40423510 => {'grades': [{'grade': 'A', 'score': 2, 'date': {'$date': 1417996800000}}, {'date': {'$date': 1401667200000}, 'grade': 'A', 'score': 10}, {'grade': 'A', 'score': 13, 'date': {'$date': 1368748800000}}, {'grade': 'A', 'date': {'$date': 1337558400000}, 'score': 10}], 'restaurant_id': '40423510', 'cuisine': 'Bakery', 'name': 'Aliotta Bake Shop', 'borough': 'Brooklyn', 'address': {'coord': [-73.9309557, 40.6185564], 'building': '4522', 'zipcode': '11234', 'street': 'Avenue N'}}\n",
      "40513021 => {'cuisine': 'Caribbean', 'address': {'street': 'Utica Avenue', 'building': '169597', 'zipcode': '11234', 'coord': [-73.9275013, 40.6246788]}, 'restaurant_id': '40513021', 'grades': [{'grade': 'A', 'date': {'$date': 1412121600000}, 'score': 13}, {'score': 13, 'grade': 'A', 'date': {'$date': 1399248000000}}, {'score': 11, 'date': {'$date': 1382918400000}, 'grade': 'A'}, {'score': 9, 'date': {'$date': 1365120000000}, 'grade': 'A'}, {'score': 12, 'grade': 'A', 'date': {'$date': 1350259200000}}, {'date': {'$date': 1337212800000}, 'score': 13, 'grade': 'A'}, {'grade': 'A', 'date': {'$date': 1324252800000}, 'score': 0}], 'name': 'Blue Mountain Restaurant & Jerk Center', 'borough': 'Brooklyn'}\n",
      "40521003 => {'name': 'Topaze Restaurant & Jerk Chicken', 'cuisine': 'Caribbean', 'address': {'street': 'Utica Avenue', 'zipcode': '11234', 'coord': [-73.92766979999999, 40.6264459], 'building': '1875'}, 'restaurant_id': '40521003', 'grades': [{'grade': 'A', 'date': {'$date': 1410825600000}, 'score': 5}, {'grade': 'A', 'score': 7, 'date': {'$date': 1398124800000}}, {'score': 5, 'date': {'$date': 1377561600000}, 'grade': 'A'}, {'grade': 'A', 'score': 12, 'date': {'$date': 1359936000000}}, {'grade': 'A', 'date': {'$date': 1346198400000}, 'score': 13}], 'borough': 'Brooklyn'}\n",
      "40537290 => {'restaurant_id': '40537290', 'grades': [{'score': 11, 'grade': 'A', 'date': {'$date': 1406160000000}}, {'score': 10, 'date': {'$date': 1391385600000}, 'grade': 'A'}, {'date': {'$date': 1371081600000}, 'score': 4, 'grade': 'A'}, {'score': 20, 'grade': 'B', 'date': {'$date': 1349395200000}}, {'score': 11, 'date': {'$date': 1332201600000}, 'grade': 'A'}, {'score': 12, 'grade': 'A', 'date': {'$date': 1318377600000}}], 'address': {'coord': [-73.94095960000001, 40.6122338], 'street': 'Quentin Road', 'zipcode': '11234', 'building': '3019'}, 'borough': 'Brooklyn', 'name': \"Nora'S Park Bench Cafe\", 'cuisine': 'American '}\n",
      "40537473 => {'cuisine': 'Italian', 'borough': 'Brooklyn', 'grades': [{'date': {'$date': 1416441600000}, 'score': 13, 'grade': 'A'}, {'score': 9, 'date': {'$date': 1398902400000}, 'grade': 'A'}, {'grade': 'A', 'score': 13, 'date': {'$date': 1362700800000}}, {'date': {'$date': 1344556800000}, 'score': 0, 'grade': 'B'}, {'score': 17, 'date': {'$date': 1330473600000}, 'grade': 'B'}], 'restaurant_id': '40537473', 'address': {'zipcode': '11234', 'building': '5811', 'coord': [-73.9190969, 40.6194298], 'street': 'Avenue N'}, 'name': 'Pinocchios'}\n",
      "40543027 => {'name': 'Il Posto', 'cuisine': 'Italian', 'address': {'zipcode': '11234', 'coord': [-73.905188, 40.621585], 'street': 'Avenue U', 'building': '7409'}, 'borough': 'Brooklyn', 'restaurant_id': '40543027', 'grades': [{'grade': 'A', 'date': {'$date': 1395273600000}, 'score': 10}, {'grade': 'A', 'date': {'$date': 1363392000000}, 'score': 11}, {'date': {'$date': 1340755200000}, 'score': 12, 'grade': 'A'}, {'score': 11, 'grade': 'A', 'date': {'$date': 1308009600000}}]}\n",
      "40584579 => {'address': {'building': '2036', 'coord': [-73.9344768, 40.6200917], 'street': 'Flatbush Avenue', 'zipcode': '11234'}, 'restaurant_id': '40584579', 'name': \"Lenny & John'S Pizza\", 'cuisine': 'Pizza/Italian', 'borough': 'Brooklyn', 'grades': [{'date': {'$date': 1408492800000}, 'score': 7, 'grade': 'A'}, {'grade': 'A', 'date': {'$date': 1394496000000}, 'score': 8}, {'date': {'$date': 1371168000000}, 'score': 10, 'grade': 'A'}, {'score': 11, 'grade': 'A', 'date': {'$date': 1351123200000}}, {'grade': 'A', 'date': {'$date': 1331596800000}, 'score': 11}]}\n",
      "40705996 => {'grades': [{'score': 9, 'date': {'$date': 1416441600000}, 'grade': 'A'}, {'score': 8, 'date': {'$date': 1384819200000}, 'grade': 'A'}, {'grade': 'B', 'score': 18, 'date': {'$date': 1372636800000}}, {'grade': 'A', 'date': {'$date': 1358208000000}, 'score': 3}, {'grade': 'A', 'score': 12, 'date': {'$date': 1338768000000}}], 'address': {'coord': [-73.9210275, 40.6413138], 'zipcode': '11234', 'street': 'Kings Plaza', 'building': '5172'}, 'borough': 'Brooklyn', 'restaurant_id': '40705996', 'cuisine': 'Ice Cream, Gelato, Yogurt, Ices', 'name': 'Haagen-Dazs'}\n",
      "40711820 => {'grades': [{'score': 10, 'date': {'$date': 1394150400000}, 'grade': 'A'}, {'date': {'$date': 1377216000000}, 'score': 12, 'grade': 'A'}, {'date': {'$date': 1344297600000}, 'grade': 'A', 'score': 3}, {'grade': 'A', 'date': {'$date': 1332892800000}, 'score': 11}, {'grade': 'A', 'score': 12, 'date': {'$date': 1320019200000}}], 'address': {'building': '6187', 'zipcode': '11234', 'coord': [-73.9122805, 40.6136522], 'street': 'Strickland Avenue'}, 'name': 'Dagan Pizza', 'borough': 'Brooklyn', 'cuisine': 'Pizza', 'restaurant_id': '40711820'}\n",
      "40746890 => {'name': \"Domino'S Pizza\", 'grades': [{'score': 10, 'grade': 'A', 'date': {'$date': 1410480000000}}, {'score': 7, 'date': {'$date': 1380067200000}, 'grade': 'A'}, {'grade': 'B', 'date': {'$date': 1361491200000}, 'score': 20}, {'date': {'$date': 1327708800000}, 'score': 8, 'grade': 'A'}], 'borough': 'Brooklyn', 'cuisine': 'Pizza', 'address': {'coord': [-73.9361296, 40.6215646], 'street': 'Flatbush Avenue', 'zipcode': '11234', 'building': '1972'}, 'restaurant_id': '40746890'}\n",
      "40786919 => {'cuisine': 'American ', 'address': {'street': 'Ralph Avenue', 'building': '1972', 'zipcode': '11234', 'coord': [-73.91889549999999, 40.6292943]}, 'restaurant_id': '40786919', 'grades': [{'grade': 'A', 'score': 11, 'date': {'$date': 1391990400000}}, {'grade': 'A', 'date': {'$date': 1372118400000}, 'score': 8}, {'score': 13, 'grade': 'A', 'date': {'$date': 1353888000000}}, {'date': {'$date': 1317081600000}, 'score': 7, 'grade': 'A'}], 'name': 'Boston Market', 'borough': 'Brooklyn'}\n",
      "40840790 => {'borough': 'Brooklyn', 'restaurant_id': '40840790', 'cuisine': 'Pizza', 'address': {'street': 'Ralph Avenue', 'building': '2351', 'zipcode': '11234', 'coord': [-73.917091, 40.620627]}, 'name': 'Original Pizza', 'grades': [{'grade': 'A', 'date': {'$date': 1391990400000}, 'score': 11}, {'date': {'$date': 1377648000000}, 'score': 10, 'grade': 'A'}, {'date': {'$date': 1361318400000}, 'score': 4, 'grade': 'A'}, {'score': 10, 'grade': 'A', 'date': {'$date': 1336521600000}}, {'score': 12, 'grade': 'A', 'date': {'$date': 1305244800000}}]}\n",
      "40890510 => {'name': 'China New Star', 'cuisine': 'Chinese', 'address': {'building': '2212', 'coord': [-73.9296582, 40.6160532], 'zipcode': '11234', 'street': 'Flatbush Avenue'}, 'restaurant_id': '40890510', 'grades': [{'score': 9, 'date': {'$date': 1414627200000}, 'grade': 'A'}, {'date': {'$date': 1384819200000}, 'score': 10, 'grade': 'A'}, {'date': {'$date': 1371081600000}, 'score': 11, 'grade': 'A'}, {'date': {'$date': 1355356800000}, 'score': 13, 'grade': 'A'}], 'borough': 'Brooklyn'}\n"
     ]
    }
   ],
   "source": [
    "# zoek alle restauranten met zipcode \"11234\" op\n",
    "\n",
    "docs = coll_restaurants.where(u'address.zipcode', u'==', '11234').stream()\n",
    "\n",
    "for doc in docs:\n",
    "    print(f'{doc.id} => {doc.to_dict()}')"
   ]
  },
  {
   "cell_type": "code",
   "execution_count": 10,
   "metadata": {},
   "outputs": [],
   "source": [
    "# Wat zijn de 5 laatste (op basis van alfabet) restaurants met een \"American\" of \"Italian\" keuken\n",
    "coll_restaurants.order_by(u'name', direction=firestore.Query.DESCENDING).limit(5)"
   ]
  },
  {
   "cell_type": "code",
   "execution_count": null,
   "metadata": {},
   "outputs": [],
   "source": []
  }
 ],
 "metadata": {
  "kernelspec": {
   "display_name": "Python 3.10.5 64-bit",
   "language": "python",
   "name": "python3"
  },
  "language_info": {
   "codemirror_mode": {
    "name": "ipython",
    "version": 3
   },
   "file_extension": ".py",
   "mimetype": "text/x-python",
   "name": "python",
   "nbconvert_exporter": "python",
   "pygments_lexer": "ipython3",
   "version": "3.10.5"
  },
  "orig_nbformat": 4,
  "vscode": {
   "interpreter": {
    "hash": "d5e8e3a19af5ceb2434683dff87da6345c3b29f7eb0a8a138558c07d014a01cc"
   }
  }
 },
 "nbformat": 4,
 "nbformat_minor": 2
}
