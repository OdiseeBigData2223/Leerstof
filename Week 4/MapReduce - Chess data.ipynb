{
 "cells": [
  {
   "cell_type": "markdown",
   "id": "6917b7e3",
   "metadata": {},
   "source": [
    "# Map Reduce Oefening - Schaken\n",
    "\n",
    "**Deadline:**\n",
    "\n",
    "In deze oefening gaan we werken met een dataset dat informatie bevat over een groot aantal schaakspelletjes.\n",
    "Deze dataset kan [hier](https://www.kaggle.com/datasnaek/chess) gevonden worden.\n",
    "Om te beginnen, download deze file en upload hem naar je distributed file systeem onder het path: **Oefingen/Mapreduce**.\n",
    "Voorzie ook code die deze folder reset naar een lege folder om geen naam-conflicten te hebben."
   ]
  },
  {
   "cell_type": "code",
   "execution_count": null,
   "id": "c2f55a65",
   "metadata": {},
   "outputs": [],
   "source": [
    "# download dataset\n",
    "import pydoop.hdfs as hdfs\n",
    "import opendatasets as od\n",
    "\n",
    "od. download('https://www.kaggle.com/datasnaek/chess')\n",
    "\n",
    "# reset folder to clean state\n",
    "localFS = hdfs.hdfs(host='')\n",
    "clientFS = hdfs.hdfs(host='localhost', 9000)\n",
    "\n",
    "path = '/user/bigdata/oefeningen/mapreduce'\n",
    "if not clientFS.exists(path):\n",
    "    clientFS.create_directory(path)\n",
    "    \n",
    "for f in clientFS.list_directory(path):\n",
    "    if not f['name'].endswith('games.csv'):\n",
    "        clientFS.delete(f['name'], True)   # True omdat het ook mappen zou verwijderen\n",
    "\n",
    "# upload de dataset naar hadoop\n",
    "localFS.copy('chess/games.csv', client, path + '/games.csv')"
   ]
  },
  {
   "cell_type": "markdown",
   "id": "d052848a",
   "metadata": {},
   "source": [
    "# Map Reduce applicaties\n",
    "\n",
    "Nu dat de dataset geupload is kunnen we map-reduce applicaties schrijven om deze dataset te verwerken. \n",
    "Deze oefeningen bestaan steeds uit twee cellen:\n",
    "* Een eerste cel met de nodige python code voor de map-reduce applicatie. Sla deze code op in een file met het correcte oefeningennummer (bvb: oefening_1.py) door gebruik te maken van de \"%%file\" tag in de notebookcellen.\n",
    "* Een tweede cel die de map-reduce applicatie uitvoert op de cluster en het correcte bestand uitleest. Commando's uitvoeren naar de commandline/terminal gebeurt door een uitroepingsteken vooraan te plaatsen (!pydoop submit ...)\n",
    "\n",
    "## Aantal rijen\n",
    "\n",
    "De eerste gevraagde map-reduce applicatie telt het aantal rijen.\n",
    "Schrijf deze nu hieronder en beantwoord de vragen na de code:"
   ]
  },
  {
   "cell_type": "code",
   "execution_count": null,
   "id": "64871a36",
   "metadata": {},
   "outputs": [],
   "source": [
    "# map-reduce applicatie voor het aantal rijen te tellen\n",
    "%%file wordcount_pydoop.py\n",
    "import pydoop.mapreduce.api as api\n",
    "import pydoop.mapreduce.pipes as pipes\n",
    "\n",
    "class Mapper(api.Mapper):\n",
    "    def map(self, context):\n",
    "        # if !context.value.startswith('id,'):\n",
    "        if context.key != 0:\n",
    "            context.emit('aantal rijen', 1)\n",
    "    \n",
    "class Reducer(api.Reducer):\n",
    "    def reduce(self, context):\n",
    "        context.emit(context.key, sum(context.values))\n",
    "        \n",
    "FACTORY = pipes.Factory(Mapper, reducer_class=Reducer)\n",
    "\n",
    "def main():\n",
    "    pipes.run_task(FACTORY)\n",
    "\n",
    "if __name__ == \"__main__\":\n",
    "    main()"
   ]
  },
  {
   "cell_type": "code",
   "execution_count": null,
   "id": "04a528f4",
   "metadata": {},
   "outputs": [],
   "source": [
    "# commando voor uitvoeren van de applicatie"
   ]
  },
  {
   "cell_type": "markdown",
   "id": "676d5e3e",
   "metadata": {},
   "source": [
    "**Vragen:**\n",
    "\n",
    "- Hoeveel rijen heb je gevonden in de dataset?\n",
    "- Hoeveel spelletjes zitten er echt in de dataset (kijk hiervoor naar de link van de dataset)?\n",
    "- Zijn deze waarden gelijk? Indien nee, wat is de oorzaak van het verschil? Hoe zou je dit kunnen oplossen?\n",
    "\n",
    "**Antwoord:**"
   ]
  },
  {
   "cell_type": "markdown",
   "id": "255735fb",
   "metadata": {},
   "source": [
    "Schrijf hier je antwoord..."
   ]
  },
  {
   "cell_type": "markdown",
   "id": "64fde28b",
   "metadata": {},
   "source": [
    "Indien je waarden niet overeenkomen, maak een kopie van de vorige applicatie en pas het aan zodat het aantal spelletjes in de dataset correct geteld wordt."
   ]
  },
  {
   "cell_type": "code",
   "execution_count": null,
   "id": "cdd489dd",
   "metadata": {},
   "outputs": [],
   "source": [
    "# aangepast map-reduce applicatie om het correcte aantal te bekomen."
   ]
  },
  {
   "cell_type": "code",
   "execution_count": null,
   "id": "b1506006",
   "metadata": {},
   "outputs": [],
   "source": [
    "# commando voor uitvoeren van de applicatie"
   ]
  },
  {
   "cell_type": "markdown",
   "id": "3962cd4a",
   "metadata": {},
   "source": [
    "## Aantal kolommen\n",
    "\n",
    "Naast het aantal rijen kunnen we ook het aantal kolommen bepalen. Aangezien het mogelijk zou zijn dat verschillende rijen een verschillend aantal kolommen hebben is het nodig om hier het maximum aantal kolommen in de verschillende rijen te bepalen."
   ]
  },
  {
   "cell_type": "code",
   "execution_count": null,
   "id": "03542da6",
   "metadata": {},
   "outputs": [],
   "source": [
    "# map-reduce applicatie om het aantal kolommen te berekenen"
   ]
  },
  {
   "cell_type": "code",
   "execution_count": null,
   "id": "1ee1c276",
   "metadata": {},
   "outputs": [],
   "source": [
    "# commando voor uitvoeren van de applicatie"
   ]
  },
  {
   "cell_type": "markdown",
   "id": "747e5678",
   "metadata": {},
   "source": [
    "**Vragen:**\n",
    "\n",
    "- Hoeveel kolommen heb je gevonden in de dataset?\n",
    "- Hoeveel kolommen zitten er echt in de dataset (kijk hiervoor naar de link van de dataset)?\n",
    "- Zijn deze waarden gelijk? Indien nee, wat is de oorzaak van het verschil? Hoe zou je dit kunnen oplossen?\n",
    "\n",
    "**Antwoord:**"
   ]
  },
  {
   "cell_type": "markdown",
   "id": "2197a7e8",
   "metadata": {},
   "source": [
    "Schrijf hier je antwoord..."
   ]
  },
  {
   "cell_type": "markdown",
   "id": "fc057ef5",
   "metadata": {},
   "source": [
    "Indien je waarden niet overeenkomen, maak een kopie van de vorige applicatie en pas het aan zodat het aantal spelletjes in de dataset correct geteld wordt."
   ]
  },
  {
   "cell_type": "code",
   "execution_count": null,
   "id": "f975dbe2",
   "metadata": {},
   "outputs": [],
   "source": [
    "# aangepast map-reduce applicatie om het correcte aantal te bekomen."
   ]
  },
  {
   "cell_type": "markdown",
   "id": "dec360aa",
   "metadata": {},
   "source": [
    "## Aantal uitkomsten\n",
    "\n",
    "Er zijn vier verschillende uitkomsten mogelijk bij een schaakspel: mate (schaakmat), resign (opgave), draw(gelijkspel), out of time (tijd overschreden).\n",
    "Maak nu een map-reduce applicatie dat telt hoe vaak elk van deze uitkomsten plaatsvindt"
   ]
  },
  {
   "cell_type": "code",
   "execution_count": null,
   "id": "730d9ceb",
   "metadata": {},
   "outputs": [],
   "source": [
    "# map-reduce applicatie om het aantal keer dat de verschillende uitkomsten voorkomen te berekenen"
   ]
  },
  {
   "cell_type": "code",
   "execution_count": null,
   "id": "1062bd89",
   "metadata": {},
   "outputs": [],
   "source": [
    "# commando voor uitvoeren van de applicatie"
   ]
  },
  {
   "cell_type": "markdown",
   "id": "1731e043",
   "metadata": {},
   "source": [
    "**Vragen:**\n",
    "\n",
    "* Hoeveel komt elke waarde voor?\n",
    "\n",
    "**Antwoord:**"
   ]
  },
  {
   "cell_type": "markdown",
   "id": "5d2033ea",
   "metadata": {},
   "source": [
    "Schrijf hier je antwoord..."
   ]
  },
  {
   "cell_type": "markdown",
   "id": "a7bdbcf4",
   "metadata": {},
   "source": [
    "## Welke kleur wint het meest\n",
    "\n",
    "Schrijf nu een map-reduce applicatie dat telt hoevaak elk kleur wint. Zorg er ook voor dat je naast de totaal aantal gewonnen spelletjes, ook enkel de spelletjes telt waar de rating van de spelers niet sterk verschilt (max 100 verschil)."
   ]
  },
  {
   "cell_type": "code",
   "execution_count": null,
   "id": "93e4263e",
   "metadata": {},
   "outputs": [],
   "source": [
    "# map-reduce applicatie om de winstkansen van een kleur te bepalen."
   ]
  },
  {
   "cell_type": "code",
   "execution_count": null,
   "id": "6570f47d",
   "metadata": {},
   "outputs": [],
   "source": [
    "# commando voor uitvoeren van de applicatie"
   ]
  },
  {
   "cell_type": "markdown",
   "id": "7e41cb95",
   "metadata": {},
   "source": [
    "**Vragen:**\n",
    "\n",
    "* Welke kleur heeft het meeste gewonnen?\n",
    "* Is hetzelfde vast te stellen wanneer we enkel kijken naar gelijkwaardige spelers? (Bereken hiervoor de percentages!)\n",
    "\n",
    "**Antwoord:**"
   ]
  },
  {
   "cell_type": "markdown",
   "id": "6677bc11",
   "metadata": {},
   "source": [
    "Schrijf hier je antwoord..."
   ]
  },
  {
   "cell_type": "markdown",
   "id": "5c62fde3",
   "metadata": {},
   "source": [
    "## Verschillende openingen\n",
    "\n",
    "Een belangrijk onderdeel van schaakspelletjes is de openingset die gebruikt wordt. Schrijf nu een map-reduce applicatie dat telt hoevaak elke openingsset resulteert in een winst of verlies voor de witte speler. \n",
    "Emit hierbij in de mapping fase enkel key-value pairs waar de keys de namen van de openingszetten zijn.\n",
    "Filteren tussen winst en verlies moet dan in de reduce fase gebeuren."
   ]
  },
  {
   "cell_type": "code",
   "execution_count": null,
   "id": "c2c0368a",
   "metadata": {},
   "outputs": [],
   "source": [
    "# winst of verlies van openingszetten\n",
    "%%file openingen.py\n",
    "import pydoop.mapreduce.api as api\n",
    "import pydoop.mapreduce.pipes as pipes\n",
    "\n",
    "class Mapper(api.Mapper):\n",
    "    def map(self, context):\n",
    "        if context.key != 0:\n",
    "            cols = context.value.split(',')\n",
    "            context.emit(cols[-2], cols[6])\n",
    "    \n",
    "class Reducer(api.Reducer):\n",
    "    def reduce(self, context):\n",
    "        # dit gaat per opening gebeuren -> dus je krijgt een lijstje met wit, zwart, zwart, wit, wit, ...\n",
    "        wit = 0\n",
    "        zwart = 0\n",
    "        for winner in context.values:\n",
    "            if winner == 'white':\n",
    "                wit += 1\n",
    "            else:\n",
    "                zwart += 1\n",
    "        context.emit(context.key + '-winst wit', wit)\n",
    "        context.emit(context.key + '-winst zwart', zwart)\n",
    "        \n",
    "FACTORY = pipes.Factory(Mapper, reducer_class=Reducer)\n",
    "\n",
    "def main():\n",
    "    pipes.run_task(FACTORY)\n",
    "\n",
    "if __name__ == \"__main__\":\n",
    "    main()"
   ]
  },
  {
   "cell_type": "code",
   "execution_count": null,
   "id": "1ebf4136",
   "metadata": {},
   "outputs": [],
   "source": [
    "# commando voor uitvoeren van de applicatie"
   ]
  },
  {
   "cell_type": "markdown",
   "id": "91f9b100",
   "metadata": {},
   "source": [
    "De output van bovenstaande applicatie zou een groot aantal rijen moeten bevatten. Download het bestand en bekijk het aantal rijen in dit bestand. \n",
    "\n",
    "**Hoeveel verschillende openingszetten zijn er aanwezig in de dataset?**"
   ]
  },
  {
   "cell_type": "markdown",
   "id": "d99f1ee3",
   "metadata": {},
   "source": [
    "Schrijf hier je antwoord"
   ]
  },
  {
   "cell_type": "markdown",
   "id": "0805e81c",
   "metadata": {},
   "source": [
    "## Verificatie van de kolom met het aantal zetten\n",
    "\n",
    "In de dataset zijn twee manieren aanwezig om het aantal zetten in een schaakspel te bekomen.\n",
    "* Er is een turns kolom dat het totaal aantal beurten vast heeft\n",
    "* Er is ook een moves kolom dat alle uitgevoerde zetten bevat (gescheidden door een spatie)\n",
    "\n",
    "Kijk of deze waarden voor alle rijen overeenkomt en tel de volgende waarden:\n",
    "* Totaal aantal schaakspelletjes\n",
    "* Aantal waar de kolommen overeenkomen\n",
    "* Aantal waar de kolommen niet overeenkomen.\n",
    "\n",
    "Zorg ervoor dat deze drie waarden aanwezig zijn in het uiteindelijke resultaat."
   ]
  },
  {
   "cell_type": "code",
   "execution_count": null,
   "id": "ea35727e",
   "metadata": {},
   "outputs": [],
   "source": [
    "# verificatie \"turns\" kolom"
   ]
  },
  {
   "cell_type": "code",
   "execution_count": null,
   "id": "3fa49e7e",
   "metadata": {},
   "outputs": [],
   "source": [
    "# commando voor uitvoeren van de applicatie"
   ]
  },
  {
   "cell_type": "markdown",
   "id": "8433eb74",
   "metadata": {},
   "source": [
    "**Plaats hieronder de bekomen output voor dit commando:**"
   ]
  },
  {
   "cell_type": "markdown",
   "id": "8ef4619f",
   "metadata": {},
   "source": [
    "Vervang dit door je output."
   ]
  },
  {
   "cell_type": "markdown",
   "id": "aaab5715",
   "metadata": {},
   "source": [
    "## Aantal verschillende spelers en aantal verschillende openingen\n",
    "\n",
    "Schrijf nu een map-reduce applicatie dat zowel het aantal verschillende spelers als het aantal verschillende openingen in de dataset telt. Tip: een set in python bevat geen duplicaten"
   ]
  },
  {
   "cell_type": "code",
   "execution_count": null,
   "id": "c799bd5d",
   "metadata": {},
   "outputs": [],
   "source": [
    "# aantal spelers en openingen\n",
    "%%file openingen.py\n",
    "import pydoop.mapreduce.api as api\n",
    "import pydoop.mapreduce.pipes as pipes\n",
    "\n",
    "class Mapper(api.Mapper):\n",
    "    def map(self, context):\n",
    "        if context.key != 0:\n",
    "            cols = context.value.split(',')\n",
    "            context.emit('openingen', cols[-2]) # openingen\n",
    "            context.emit('speler', cols[8]) # emit witte speler  w1, w2, w3\n",
    "            context.emit('speler', cols[10]) # emit zwarte speler (combineer met de witte)    z1, z2, z3\n",
    "    \n",
    "class Reducer(api.Reducer):\n",
    "    def reduce(self, context):\n",
    "        # context.values van speler is w1, z1, w2, z2, w3, z3, ...\n",
    "        unieke = set(context.values)\n",
    "        context.emit(context.key, len(unieke))\n",
    "        \n",
    "FACTORY = pipes.Factory(Mapper, reducer_class=Reducer)\n",
    "\n",
    "def main():\n",
    "    pipes.run_task(FACTORY)\n",
    "\n",
    "if __name__ == \"__main__\":\n",
    "    main()"
   ]
  },
  {
   "cell_type": "code",
   "execution_count": null,
   "id": "5f7b0acb",
   "metadata": {},
   "outputs": [],
   "source": [
    "# commando voor uitvoeren van de applicatie"
   ]
  },
  {
   "cell_type": "markdown",
   "id": "c414240c",
   "metadata": {},
   "source": [
    "**Plaats hieronder de bekomen output voor dit commando:**"
   ]
  },
  {
   "cell_type": "markdown",
   "id": "9b11cc69",
   "metadata": {},
   "source": [
    "Vervang dit door je output."
   ]
  },
  {
   "cell_type": "markdown",
   "id": "eb3325a0",
   "metadata": {},
   "source": [
    "## verscheidene statistieken in 1 applicatie\n",
    "\n",
    "Maak nu een map-reduce applicatie dat de volgende zaken in 1 keer berekend:\n",
    "* Het aantal minuten dat een schaakspel geduurd heeft (de tijden aanwezig in de dataset zijn in [Unix-format](https://en.wikipedia.org/wiki/Unix_time))\n",
    "* Het minimum, maximum en gemiddeld aantal beurten\n",
    "* Percentage rated\n",
    "* Het minimum, maximum en gemiddeld aantal keer dat er schaak voorkwam in een spel dat eindige in schaakmat. (Schaak wordt aangegeven door een \"+\" in de moves kolom.)"
   ]
  },
  {
   "cell_type": "code",
   "execution_count": null,
   "id": "088af36a",
   "metadata": {},
   "outputs": [],
   "source": [
    "# verscheidene statistieken\n",
    "# aantal spelers en openingen\n",
    "%%file openingen.py\n",
    "import pydoop.mapreduce.api as api\n",
    "import pydoop.mapreduce.pipes as pipes\n",
    "import statistics\n",
    "\n",
    "class Mapper(api.Mapper):\n",
    "    def map(self, context):\n",
    "        if context.key != 0:\n",
    "            cols = context.value.split(',')\n",
    "            \n",
    "            context.emit('aantal minuten', float(cols[3]) - float(cols[2]) /1000 / 60)\n",
    "            \n",
    "            context.emit('aantal beurten', int(cols[4]))\n",
    "            \n",
    "            if cols[1] == 'true':\n",
    "                context.emit('rated', 1)\n",
    "            else:\n",
    "                context.emit('rated', 0)\n",
    "    \n",
    "class Reducer(api.Reducer):\n",
    "    def reduce(self, context):\n",
    "        values = list(context.values)   # maak er een lijst van ipv een iterator, deze kan meerdere keren hergebruikt worden\n",
    "        if context.key == 'aantal minuten':\n",
    "            context.emit('mediaan duurtijd', statistics.median(context.values))\n",
    "        elif context.key == 'aantal beurten':\n",
    "            # andere oplossing dan values om zelf een for lus te schrijven\n",
    "            context.emit(context.key + '-min', min(values))\n",
    "            context.emit(context.key + '-max', max(values))\n",
    "            context.emit(context.key + '-avg', sum(values) / len(values))\n",
    "        elif context.key = 'rated':\n",
    "            context.emit('perc rated', sum(values) / len(values))\n",
    "        \n",
    "FACTORY = pipes.Factory(Mapper, reducer_class=Reducer)\n",
    "\n",
    "def main():\n",
    "    pipes.run_task(FACTORY)\n",
    "\n",
    "if __name__ == \"__main__\":\n",
    "    main()"
   ]
  },
  {
   "cell_type": "code",
   "execution_count": null,
   "id": "7bba13c6",
   "metadata": {},
   "outputs": [],
   "source": [
    "# commando voor uitvoeren van de applicatie"
   ]
  },
  {
   "cell_type": "markdown",
   "id": "f82b7382",
   "metadata": {},
   "source": [
    "**Plaats hieronder de bekomen output voor dit commando:**"
   ]
  },
  {
   "cell_type": "markdown",
   "id": "1f8b487a",
   "metadata": {},
   "source": [
    "Vervang dit door je output."
   ]
  },
  {
   "cell_type": "code",
   "execution_count": null,
   "id": "d6318d74",
   "metadata": {},
   "outputs": [],
   "source": []
  }
 ],
 "metadata": {
  "kernelspec": {
   "display_name": "Python 3 (ipykernel)",
   "language": "python",
   "name": "python3"
  },
  "language_info": {
   "codemirror_mode": {
    "name": "ipython",
    "version": 3
   },
   "file_extension": ".py",
   "mimetype": "text/x-python",
   "name": "python",
   "nbconvert_exporter": "python",
   "pygments_lexer": "ipython3",
   "version": "3.8.8"
  }
 },
 "nbformat": 4,
 "nbformat_minor": 5
}
