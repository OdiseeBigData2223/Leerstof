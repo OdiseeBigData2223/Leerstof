{
 "cells": [
  {
   "attachments": {},
   "cell_type": "markdown",
   "id": "9ee9c8fa",
   "metadata": {},
   "source": [
    "# No SQL Databases - MongoDb\n",
    "\n",
    "In deze bijhorende notebook gaan we een voorbeeld uitwerken van een Document Based NoSQL database.\n",
    "Hiervoor maken we gebruik van MongoDb, wat de mogelijkheid aanbied om het lokaal te draaien.\n",
    "Deze applicatie voor het beheer van een NoSQL database is reeds geinstalleerd en kan gestart worden door het volgende commando in een terminal uit te voeren\n",
    "\n",
    "    mongod\n",
    "    \n",
    "Dit commando start de MongoDb Server. \n",
    "Zolang deze applicatie draait kan je met MongoDb connecteren via een shell (niet geinstalleerd) of een api zoals pymongo (is geinstalleerd).\n",
    "\n",
    "In MongoDb begin je met een te connecteren met een bepaalde database.\n",
    "Dit doe je door een host en poort te kiezen en de naam van een bepaalde database.\n",
    "Dit is analoog met hoe je een SQL-database aanspreekt.\n",
    "\n",
    "MongoDb is een document-based NoSqlDatabase wat betekend dat een database bestaat uit een reeks collecties die elk een aantal documenten bevatten.\n",
    "\n",
    "In de code hieronder connecteren we met een lokale database \"les\" waarin we twee collecties gaan gebruiken, namelijk \"vakken\" en \"studenten\". \n",
    "Deze collecties zijn conceptueel analoog aan de tabellen in een SQL-database."
   ]
  },
  {
   "cell_type": "code",
   "execution_count": null,
   "id": "a27e9553",
   "metadata": {},
   "outputs": [],
   "source": [
    "import pymongo\n",
    "import json\n",
    "\n",
    "client = pymongo.MongoClient('localhost', 27017)  # connectie met mongodb - gelijkaardig aan connnectiestring\n",
    "#db = client[\"les\"]\n",
    "db = client.les\n",
    "\n",
    "coll_vakken = db.vakken\n",
    "coll_studenten = db[\"studenten\"] # collecties en databases worden maar aangemaakt als er documenten toegevoegd worden"
   ]
  },
  {
   "attachments": {},
   "cell_type": "markdown",
   "id": "8b4e400a",
   "metadata": {},
   "source": [
    "Bij bovenstaande code is er echter nog een belangrijke opmerking:\n",
    "**De database en collecties worden lazy aangemaakt**. \n",
    "Dit houdt in dat ze maar aangemaakt worden wanneer ze effectief gebruikt worden (dus wanneer er een document toegevoegd wordt).\n",
    "Bovenstaande code gaat op dit moment nog geen database en collecties aanmaken.\n",
    "\n",
    "De documenten in MongoDb kunnen voorgesteld worden als Json formaat. \n",
    "In python kunnen dictionaries gebruikt worden om deze documenten voor te stellen, bvb voor een de drie vakken van dit keuzetraject:"
   ]
  },
  {
   "cell_type": "code",
   "execution_count": null,
   "id": "9fa7e217",
   "metadata": {},
   "outputs": [],
   "source": [
    "datascience = {\n",
    "    \"naam\": \"Data Science\",\n",
    "    \"studiepunten\": 5,\n",
    "    \"semester\": 1\n",
    "}\n",
    "\n",
    "bigdata = {\n",
    "    \"naam\": \"Big Data\",\n",
    "    \"studiepunten\": 5,\n",
    "    \"semester\": 2\n",
    "}\n",
    "\n",
    "machinelearning = {\n",
    "    \"naam\": \"Machine Learning\",\n",
    "    \"studiepunten\": 6,\n",
    "    \"semester\": 1\n",
    "}"
   ]
  },
  {
   "attachments": {},
   "cell_type": "markdown",
   "id": "18321104",
   "metadata": {},
   "source": [
    "Deze documenten kunnen toegevoegd worden aan de database door middel van volgende code."
   ]
  },
  {
   "cell_type": "code",
   "execution_count": null,
   "id": "ec1300a4",
   "metadata": {},
   "outputs": [],
   "source": [
    "# bij het toevoegen wordt er automatische een _id toegevoegd als identifier indien deze nog niet aanwezig is\n",
    "# deze kan gebruikt worden als foreign key in andere documenten\n",
    "# insert_many voor meerdere tegelijkertijd\n",
    "datascience_id = coll_vakken.insert_one(datascience).inserted_id\n",
    "bigdata_id = coll_vakken.insert_one(bigdata).inserted_id\n",
    "machinelearning_id = coll_vakken.insert_one(machinelearning).inserted_id"
   ]
  },
  {
   "attachments": {},
   "cell_type": "markdown",
   "id": "d90da713",
   "metadata": {},
   "source": [
    "Dat deze documenten goed zijn toegevoegd en de nodige databases en collecties aangemaakt zijn kan gecontroleerd worden op de volgende manier:"
   ]
  },
  {
   "cell_type": "code",
   "execution_count": null,
   "id": "09ba92a4",
   "metadata": {},
   "outputs": [],
   "source": [
    "print(client.list_database_names())\n",
    "print(db.list_collection_names()) # studenten bestaat nog niet want nog geen documenten\n",
    "\n",
    "from pprint import pprint\n",
    "# Get 1 of meerdere objecten (query kan in de find staan)\n",
    "# get all\n",
    "#for doc in coll_vakken.find():\n",
    "#    pprint(doc)\n",
    "# get one (eerste die matcht)\n",
    "# pprint(coll_vakken.find_one())\n",
    "# get one with filter filter in accolades, meerdere keys mogelijk\n",
    "# pprint(coll_vakken.find_one({\"_id\": bigdata_id}))\n",
    "# pprint(coll_vakken.find_one({\"naam\": \"Machine Learning\"}))\n",
    "#for doc in coll_vakken.find({\"studiepunten\":5}):\n",
    "#    pprint(doc)"
   ]
  },
  {
   "attachments": {},
   "cell_type": "markdown",
   "id": "cfd29df4",
   "metadata": {},
   "source": [
    "Om de vakken toe te voegen hebben we documenten 1 voor 1 toegevoegd.\n",
    "Een andere manier is om met een rij van dictionaries te werken om meerdere documenten tegelijkertijd toe te voegen. \n",
    "Dit kan bijvoorbeeld als volgt gedaan worden:"
   ]
  },
  {
   "cell_type": "code",
   "execution_count": null,
   "id": "16fd9a01",
   "metadata": {},
   "outputs": [],
   "source": [
    "import datetime\n",
    "\n",
    "students = [{\n",
    "    \"studentennummer\": 202001546,\n",
    "    \"naam\": \"Andy Weir\",\n",
    "    \"vakken\": [{\"naam\" : \"Data Science\", \"score\": 8}, \n",
    "               {\"naam\" : \"Big Data\", \"score\": 10}, \n",
    "               {\"naam\" : \"Machine Learning\", \"score\": 12}],\n",
    "    \"geboortedatum\": datetime.datetime(2000, 4, 24)\n",
    "},{\n",
    "    \"studentennummer\": 202001548,\n",
    "    \"naam\": \"Albus Dumbledore\",\n",
    "    \"vakken\": [{\"naam\" : \"Data Science\", \"score\": 14}, \n",
    "               {\"naam\" : \"Big Data\", \"score\": 16}, \n",
    "               {\"naam\" : \"Machine Learning\", \"score\": 15}],\n",
    "    \"geboortedatum\": datetime.datetime(1800, 4, 24)\n",
    "},{\n",
    "    \"studentennummer\": 202001556,\n",
    "    \"naam\": \"Frodo Baggings\",\n",
    "    \"vakken\": [{\"naam\" : \"Data Science\", \"score\": 3}, \n",
    "               {\"naam\" : \"Big Data\", \"score\": 5}, \n",
    "               {\"naam\" : \"Machine Learning\", \"score\": 4}],\n",
    "    \"geboortedatum\": datetime.datetime(1960, 4, 24)\n",
    "}]\n",
    "\n",
    "coll_studenten.insert_many(students)"
   ]
  },
  {
   "cell_type": "code",
   "execution_count": null,
   "id": "4af8912e",
   "metadata": {},
   "outputs": [],
   "source": [
    "for doc in coll_studenten.find():\n",
    "    pprint(doc)"
   ]
  },
  {
   "attachments": {},
   "cell_type": "markdown",
   "id": "0ee98ba4",
   "metadata": {},
   "source": [
    "Om complexere queries uit te voeren moet er gebruik gemaakt worden van de [aggregate functie](https://pymongo.readthedocs.io/en/stable/examples/aggregation.html) waarbij je een stappenplan kan meegeven om een eindresultaat te bekomen.\n",
    "Meer informatie over alles wat je kan doen met deze aggregate functie kan je vinden in de documentatie van [MongoDb](https://docs.mongodb.com/manual/aggregation/).\n",
    "Bekijk hiervan zeker de documentatie over [de werking van de pipelines](https://docs.mongodb.com/manual/core/aggregation-pipeline/#std-label-aggregation-pipeline) en de [operators](https://docs.mongodb.com/manual/reference/operator/aggregation/#std-label-aggregation-expression-operators) die je kan gebruiken bij het opstellen van deze pipeline\n",
    "Nu gaan we een aantal zaken proberen te bereken uit deze data, namelijk:\n",
    "* Hoeveel vakken zijn er voor elk verschillend aantal studiepunten?\n",
    " * Correcte antwoord: 5 studiepunten -> 2 vakken, 6 studiepunten -> 1 vak\n",
    "* Hoeveel studenten heeft elk vak?\n",
    "* Voor welke vakken is elke student geslaagd?"
   ]
  },
  {
   "cell_type": "code",
   "execution_count": null,
   "id": "46a7be56",
   "metadata": {},
   "outputs": [],
   "source": []
  },
  {
   "cell_type": "code",
   "execution_count": null,
   "id": "9fbb47fb",
   "metadata": {},
   "outputs": [],
   "source": []
  },
  {
   "cell_type": "code",
   "execution_count": null,
   "id": "114a170b",
   "metadata": {},
   "outputs": [],
   "source": []
  },
  {
   "attachments": {},
   "cell_type": "markdown",
   "id": "065a2b17",
   "metadata": {},
   "source": [
    "**Updaten**\n",
    "\n",
    "Met behulp van de find_one_and_update functie kunnen we gegevens wijzigen.\n",
    "In de code hieronder gaan we \n",
    "* de naam van het vak Data Science wijzigen naar data (en terug)\n",
    "* het studentennummer met eentje verhogen van Andy Weir\n",
    "* de score van Andy Weir voor het vak Big Data veranderen naar 20"
   ]
  },
  {
   "cell_type": "code",
   "execution_count": null,
   "id": "f03944e6",
   "metadata": {},
   "outputs": [],
   "source": []
  },
  {
   "attachments": {},
   "cell_type": "markdown",
   "id": "f3c3ece7",
   "metadata": {},
   "source": [
    "**Verwijderen**\n",
    "\n",
    "Naast het updaten is het ook mogelijk om verscheidene elementen te verwijderen.\n",
    "Dit kan aan de hand van een query of door de gewenste collections/databasen te verwijderen.\n",
    "De code hiervoor is als volgt:"
   ]
  },
  {
   "cell_type": "code",
   "execution_count": null,
   "id": "1d4e2af7",
   "metadata": {},
   "outputs": [],
   "source": []
  },
  {
   "cell_type": "code",
   "execution_count": null,
   "id": "415afe75",
   "metadata": {},
   "outputs": [],
   "source": []
  },
  {
   "cell_type": "code",
   "execution_count": null,
   "id": "0cff2ebf",
   "metadata": {},
   "outputs": [],
   "source": []
  },
  {
   "cell_type": "code",
   "execution_count": null,
   "id": "1eda7ea3",
   "metadata": {},
   "outputs": [],
   "source": []
  }
 ],
 "metadata": {
  "kernelspec": {
   "display_name": "Python 3.10.5 64-bit",
   "language": "python",
   "name": "python3"
  },
  "language_info": {
   "codemirror_mode": {
    "name": "ipython",
    "version": 3
   },
   "file_extension": ".py",
   "mimetype": "text/x-python",
   "name": "python",
   "nbconvert_exporter": "python",
   "pygments_lexer": "ipython3",
   "version": "3.10.5"
  },
  "vscode": {
   "interpreter": {
    "hash": "d5e8e3a19af5ceb2434683dff87da6345c3b29f7eb0a8a138558c07d014a01cc"
   }
  }
 },
 "nbformat": 4,
 "nbformat_minor": 5
}
