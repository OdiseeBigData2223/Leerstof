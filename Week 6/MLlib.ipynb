{
 "cells": [
  {
   "cell_type": "markdown",
   "id": "7a82620d",
   "metadata": {},
   "source": [
    "# MLlib\n",
    "\n",
    "Spark biedt ook een framework aan voor MachineLearning modellen te trainen op gedistribueerde datasets.\n",
    "Dit framework is MLlib of ook wel sparkML genoemd.\n",
    "De code om te werken met deze package is sterk gelijkaardig aan sklearn.\n",
    "De API en een uitgebreide documentatie met voorbeeldcode kan je [hier](https://spark.apache.org/docs/latest/ml-guide.html) vinden.\n",
    "\n",
    "Deze package bied de volgende tools aan\n",
    "* ML-technieken: classificatie, regressie, clustering, ...\n",
    "* Features: Extracting en transforming van features, PCA, ...\n",
    "* Pipelines: Maak, train, optimaliseer en evalueer pipelines\n",
    "* Persistentie: Bewaar en laden van algoritmes/modellen\n",
    "* Databeheer: Algebra tools, statistieken, null-waarden, ...\n",
    "\n",
    "Let op dat er twee API's aangeboden worden, 1 gebaseerd op RDD's en 1 op DataFrames.\n",
    "De API gebaseerd op RDD's is ouder en minder flexibel dan de API gebruik makend van DataFrames.\n",
    "Momenteel werken ze allebei maar in de toekomst zou de RDD gebaseerde kunnen verdwijnen.\n",
    "\n",
    "## Utilities\n",
    "\n",
    "### Varianten voor numpy-arrays\n",
    "\n",
    "Voor feature sets en volledige matrices van datasets aan te maken kan je gebruik maken van de Vector en Matrix klassen.\n",
    "Deze beschikken over een Dense variant waar je elk element moet ingeven of een Sparse Variant waar cellen, elementen leeg kan laten.\n",
    "Dit ziet er als volgt uit:"
   ]
  },
  {
   "cell_type": "code",
   "execution_count": 6,
   "id": "5ef759da",
   "metadata": {},
   "outputs": [
    {
     "name": "stdout",
     "output_type": "stream",
     "text": [
      "(4,[1,3],[2.0,0.0])\n",
      "[4.0,5.0,6.0,7.0]\n",
      "DenseMatrix([[ 0.,  4.,  8., 12.],\n",
      "             [ 1.,  5.,  9., 13.],\n",
      "             [ 2.,  6., 10., 14.],\n",
      "             [ 3.,  7., 11., 15.]])\n"
     ]
    }
   ],
   "source": [
    "from pyspark.sql import SparkSession\n",
    "from pyspark.ml.linalg import Vectors\n",
    "from pyspark.ml.linalg import Matrices\n",
    "\n",
    "spark = SparkSession.builder.appName(\"MLLib intro\").getOrCreate()\n",
    "\n",
    "# sparse vectors\n",
    "print(Vectors.sparse(4, [(3, 0.0), (1, 2.0)]))\n",
    "# dit is complexer om te lezen\n",
    "# sparse vector lees je als (aantal keer, het element), (aantal keer het volgende element), ...\n",
    "# dit is veel efficienter als je veel keer hetzelfde element hebt\n",
    "\n",
    "# dense vectors\n",
    "print(Vectors.dense([4.0, 5.0, 6.0, 7.0]))\n",
    "\n",
    "#matrix\n",
    "print(Matrices.dense(4, 4, range(16)))\n",
    "# [4,4] is de shape van de matrix -> rijen en kolommen\n",
    "# range(16) is de data"
   ]
  },
  {
   "cell_type": "markdown",
   "id": "d0143ac7",
   "metadata": {},
   "source": [
    "Het is belangrijk om te weten dat dit locale datastructuren (wrapper rond numpy array) zijn en geen gedistribueerde objecten."
   ]
  },
  {
   "cell_type": "markdown",
   "id": "36f5676b",
   "metadata": {},
   "source": [
    "### Statistieken\n",
    "\n",
    "Voor er kan gewerkt worden met statistieken moeten we (net zoals bij pandas) eerst een dataset hebben.\n",
    "Hieronder maken we een random dataframe aan van 50 rijen en 4 kolommen."
   ]
  },
  {
   "cell_type": "code",
   "execution_count": 19,
   "id": "91673fc0",
   "metadata": {
    "scrolled": false
   },
   "outputs": [
    {
     "name": "stdout",
     "output_type": "stream",
     "text": [
      "+--------------------+-------------------+-------------------+-------------------+\n",
      "|                  _1|                 _2|                 _3|                 _4|\n",
      "+--------------------+-------------------+-------------------+-------------------+\n",
      "| 0.06144433047762732| 0.9834059394649531| 0.8371498653251188|   0.91506967373569|\n",
      "| 0.34017123795223936| 0.3249177958463023|0.21781266422873424|0.17297541024459984|\n",
      "|  0.9996874598538646| 0.1593780944677522|0.26461222718797084| 0.7960466626211362|\n",
      "|  0.7051192834260629|0.28364324881697733| 0.8537541266390138|0.11161994543306109|\n",
      "|  0.9531153219155979|0.12413237262448817|0.46974208760114955|  0.620303637160762|\n",
      "|  0.9742607806552075| 0.9198323805537554|0.12782338610508603| 0.6101921308817179|\n",
      "|  0.5490961160338745|0.06744892807445191| 0.9438273039077364| 0.5046993016195154|\n",
      "| 0.21229864713840785| 0.9876989431058554| 0.5778013785548592|0.21926236026569113|\n",
      "|  0.9871835219266937| 0.4333664133014189| 0.6222806229544848| 0.5871746970851577|\n",
      "|   0.341683557676035|0.19548009946418843| 0.7198193916871084| 0.3060691538440964|\n",
      "|  0.9888176255795182| 0.8047882461492308| 0.6607968197225864| 0.5682423115792561|\n",
      "| 0.27595013858474615| 0.7988902124965738|0.38426023821823463| 0.6895722953309338|\n",
      "|  0.7538519376990983|0.21669318292889117| 0.6089502778923926|0.09212520559647819|\n",
      "| 0.11274145386813395| 0.9212420397610034|  0.906936138553935|  0.868424270060502|\n",
      "|  0.8889239406473913| 0.8498788734472387| 0.8092515552697415| 0.5907537864965862|\n",
      "|   0.895716091230599|  0.851404788426002| 0.3393145984245848| 0.5477334177974337|\n",
      "|1.630617438597159...| 0.3678543552195054|0.48666188434668967| 0.5034355467793415|\n",
      "| 0.42835810872380364|0.17907341831074952|0.14840119871332957|0.32281395845295247|\n",
      "|  0.7014206574952645| 0.2315810984137554| 0.6485208884956694|  0.281968168594649|\n",
      "|  0.9798779613379511| 0.9037412347185274|0.33137495516953064| 0.9885554211090354|\n",
      "+--------------------+-------------------+-------------------+-------------------+\n",
      "only showing top 20 rows\n",
      "\n",
      "+-------+--------------------+-------------------+--------------------+-------------------+\n",
      "|summary|                  _1|                 _2|                  _3|                 _4|\n",
      "+-------+--------------------+-------------------+--------------------+-------------------+\n",
      "|  count|                  50|                 50|                  50|                 50|\n",
      "|   mean|  0.5705524894136045|  0.453449714508358| 0.48964034774874904| 0.4645708738387442|\n",
      "| stddev| 0.30537251686010825|0.29506463887441314| 0.26555980396374673| 0.2753172092648955|\n",
      "|    min|1.630617438597159...|0.06072898866775689|0.025975199558467388|0.02552558155450413|\n",
      "|    25%| 0.32793535840634236|0.20761053729452883| 0.23983386355473968|0.21926236026569113|\n",
      "|    50%|  0.5651205321160641| 0.3372186759641064|  0.4972196697803227| 0.5046993016195154|\n",
      "|    75%|  0.8889239406473913| 0.7716389464636393|  0.6968769414234232| 0.6330664110471147|\n",
      "|    max|  0.9996874598538646| 0.9876989431058554|  0.9438273039077364| 0.9885554211090354|\n",
      "+-------+--------------------+-------------------+--------------------+-------------------+\n",
      "\n",
      "+---------------------+-------------------+-------------------+-------------------+---------------------------------------------------------------------------------+\n",
      "|_1                   |_2                 |_3                 |_4                 |vector                                                                           |\n",
      "+---------------------+-------------------+-------------------+-------------------+---------------------------------------------------------------------------------+\n",
      "|0.06144433047762732  |0.9834059394649531 |0.8371498653251188 |0.91506967373569   |[0.06144433047762732,0.9834059394649531,0.8371498653251188,0.91506967373569]     |\n",
      "|0.34017123795223936  |0.3249177958463023 |0.21781266422873424|0.17297541024459984|[0.34017123795223936,0.3249177958463023,0.21781266422873424,0.17297541024459984] |\n",
      "|0.9996874598538646   |0.1593780944677522 |0.26461222718797084|0.7960466626211362 |[0.9996874598538646,0.1593780944677522,0.26461222718797084,0.7960466626211362]   |\n",
      "|0.7051192834260629   |0.28364324881697733|0.8537541266390138 |0.11161994543306109|[0.7051192834260629,0.28364324881697733,0.8537541266390138,0.11161994543306109]  |\n",
      "|0.9531153219155979   |0.12413237262448817|0.46974208760114955|0.620303637160762  |[0.9531153219155979,0.12413237262448817,0.46974208760114955,0.620303637160762]   |\n",
      "|0.9742607806552075   |0.9198323805537554 |0.12782338610508603|0.6101921308817179 |[0.9742607806552075,0.9198323805537554,0.12782338610508603,0.6101921308817179]   |\n",
      "|0.5490961160338745   |0.06744892807445191|0.9438273039077364 |0.5046993016195154 |[0.5490961160338745,0.06744892807445191,0.9438273039077364,0.5046993016195154]   |\n",
      "|0.21229864713840785  |0.9876989431058554 |0.5778013785548592 |0.21926236026569113|[0.21229864713840785,0.9876989431058554,0.5778013785548592,0.21926236026569113]  |\n",
      "|0.9871835219266937   |0.4333664133014189 |0.6222806229544848 |0.5871746970851577 |[0.9871835219266937,0.4333664133014189,0.6222806229544848,0.5871746970851577]    |\n",
      "|0.341683557676035    |0.19548009946418843|0.7198193916871084 |0.3060691538440964 |[0.341683557676035,0.19548009946418843,0.7198193916871084,0.3060691538440964]    |\n",
      "|0.9888176255795182   |0.8047882461492308 |0.6607968197225864 |0.5682423115792561 |[0.9888176255795182,0.8047882461492308,0.6607968197225864,0.5682423115792561]    |\n",
      "|0.27595013858474615  |0.7988902124965738 |0.38426023821823463|0.6895722953309338 |[0.27595013858474615,0.7988902124965738,0.38426023821823463,0.6895722953309338]  |\n",
      "|0.7538519376990983   |0.21669318292889117|0.6089502778923926 |0.09212520559647819|[0.7538519376990983,0.21669318292889117,0.6089502778923926,0.09212520559647819]  |\n",
      "|0.11274145386813395  |0.9212420397610034 |0.906936138553935  |0.868424270060502  |[0.11274145386813395,0.9212420397610034,0.906936138553935,0.868424270060502]     |\n",
      "|0.8889239406473913   |0.8498788734472387 |0.8092515552697415 |0.5907537864965862 |[0.8889239406473913,0.8498788734472387,0.8092515552697415,0.5907537864965862]    |\n",
      "|0.895716091230599    |0.851404788426002  |0.3393145984245848 |0.5477334177974337 |[0.895716091230599,0.851404788426002,0.3393145984245848,0.5477334177974337]      |\n",
      "|1.6306174385971595E-4|0.3678543552195054 |0.48666188434668967|0.5034355467793415 |[1.6306174385971595E-4,0.3678543552195054,0.48666188434668967,0.5034355467793415]|\n",
      "|0.42835810872380364  |0.17907341831074952|0.14840119871332957|0.32281395845295247|[0.42835810872380364,0.17907341831074952,0.14840119871332957,0.32281395845295247]|\n",
      "|0.7014206574952645   |0.2315810984137554 |0.6485208884956694 |0.281968168594649  |[0.7014206574952645,0.2315810984137554,0.6485208884956694,0.281968168594649]     |\n",
      "|0.9798779613379511   |0.9037412347185274 |0.33137495516953064|0.9885554211090354 |[0.9798779613379511,0.9037412347185274,0.33137495516953064,0.9885554211090354]   |\n",
      "+---------------------+-------------------+-------------------+-------------------+---------------------------------------------------------------------------------+\n",
      "only showing top 20 rows\n",
      "\n",
      "+---------------------------------------------------------------------------------------------------------------------------------------------------------------------+\n",
      "|aggregate_metrics(vector, 1.0)                                                                                                                                       |\n",
      "+---------------------------------------------------------------------------------------------------------------------------------------------------------------------+\n",
      "|{[1.6306174385971595E-4,0.06072898866775689,0.025975199558467388,0.02552558155450413], [0.9996874598538646,0.9876989431058554,0.9438273039077364,0.9885554211090354]}|\n",
      "+---------------------------------------------------------------------------------------------------------------------------------------------------------------------+\n",
      "\n"
     ]
    }
   ],
   "source": [
    "from pyspark.mllib.random import RandomRDDs\n",
    "from pyspark.ml.stat import Summarizer\n",
    "\n",
    "sc = spark.sparkContext\n",
    "                                    # 50 = rijen, 4 = kolommen\n",
    "data = RandomRDDs.uniformVectorRDD(sc, 50, 4).map(lambda a: a.tolist()).toDF()\n",
    "data.show()\n",
    "# build in summary\n",
    "data.summary().show()\n",
    "\n",
    "#custom summary\n",
    "# hierbij moet je alle features in 1 kolom gesteken, die ene kolom bevat vectoren\n",
    "# dit is nodig omdat de ML-technieken ook zo werken\n",
    "from pyspark.ml.feature import VectorAssembler\n",
    "assembler = VectorAssembler(inputCols=data.columns, outputCol = 'vector')\n",
    "data = assembler.transform(data)\n",
    "data.show(truncate=False)\n",
    "\n",
    "summary = Summarizer.metrics('min', 'max')\n",
    "data.select(summary.summary(data.vector)).show(truncate=False)\n",
    "# dit geeft iets weer in de vorm van {eerste metriek: per kolom de waarde, tweede metriek: per kolom de waarde}"
   ]
  },
  {
   "cell_type": "markdown",
   "id": "e5c3fad4",
   "metadata": {},
   "source": [
    "**Correlation matrix**\n",
    "\n",
    "Buiten de statistieken die berekend kunnen worden door de summary() functie kan ook de correlatiematrix belangrijk zijn.\n",
    "Deze matrix maakt het mogelijk om het verband tussen de verscheidene features te bestuderen.\n",
    "Deze matrix kan als volgt berekend worden voor een gedistribueerd dataframe."
   ]
  },
  {
   "cell_type": "code",
   "execution_count": 27,
   "id": "f4b6287f",
   "metadata": {
    "scrolled": false
   },
   "outputs": [
    {
     "name": "stdout",
     "output_type": "stream",
     "text": [
      "+---------------------------------------------------------------------------------+\n",
      "|vector                                                                           |\n",
      "+---------------------------------------------------------------------------------+\n",
      "|[0.06144433047762732,0.9834059394649531,0.8371498653251188,0.91506967373569]     |\n",
      "|[0.34017123795223936,0.3249177958463023,0.21781266422873424,0.17297541024459984] |\n",
      "|[0.9996874598538646,0.1593780944677522,0.26461222718797084,0.7960466626211362]   |\n",
      "|[0.7051192834260629,0.28364324881697733,0.8537541266390138,0.11161994543306109]  |\n",
      "|[0.9531153219155979,0.12413237262448817,0.46974208760114955,0.620303637160762]   |\n",
      "|[0.9742607806552075,0.9198323805537554,0.12782338610508603,0.6101921308817179]   |\n",
      "|[0.5490961160338745,0.06744892807445191,0.9438273039077364,0.5046993016195154]   |\n",
      "|[0.21229864713840785,0.9876989431058554,0.5778013785548592,0.21926236026569113]  |\n",
      "|[0.9871835219266937,0.4333664133014189,0.6222806229544848,0.5871746970851577]    |\n",
      "|[0.341683557676035,0.19548009946418843,0.7198193916871084,0.3060691538440964]    |\n",
      "|[0.9888176255795182,0.8047882461492308,0.6607968197225864,0.5682423115792561]    |\n",
      "|[0.27595013858474615,0.7988902124965738,0.38426023821823463,0.6895722953309338]  |\n",
      "|[0.7538519376990983,0.21669318292889117,0.6089502778923926,0.09212520559647819]  |\n",
      "|[0.11274145386813395,0.9212420397610034,0.906936138553935,0.868424270060502]     |\n",
      "|[0.8889239406473913,0.8498788734472387,0.8092515552697415,0.5907537864965862]    |\n",
      "|[0.895716091230599,0.851404788426002,0.3393145984245848,0.5477334177974337]      |\n",
      "|[1.6306174385971595E-4,0.3678543552195054,0.48666188434668967,0.5034355467793415]|\n",
      "|[0.42835810872380364,0.17907341831074952,0.14840119871332957,0.32281395845295247]|\n",
      "|[0.7014206574952645,0.2315810984137554,0.6485208884956694,0.281968168594649]     |\n",
      "|[0.9798779613379511,0.9037412347185274,0.33137495516953064,0.9885554211090354]   |\n",
      "+---------------------------------------------------------------------------------+\n",
      "only showing top 20 rows\n",
      "\n"
     ]
    },
    {
     "data": {
      "text/plain": [
       "array([[1.        , 0.00422482, 0.10837841, 0.02487038],\n",
       "       [0.00422482, 1.        , 0.09838635, 0.23423854],\n",
       "       [0.10837841, 0.09838635, 1.        , 0.12835511],\n",
       "       [0.02487038, 0.23423854, 0.12835511, 1.        ]])"
      ]
     },
     "execution_count": 27,
     "metadata": {},
     "output_type": "execute_result"
    }
   ],
   "source": [
    "from pyspark.ml.stat import Correlation\n",
    "df = data.select('vector')\n",
    "df.show(truncate=False)\n",
    "\n",
    "data_corr = Correlation.corr(df, 'vector')\n",
    "data_corr.collect()[0][0].values.reshape(4,4)"
   ]
  },
  {
   "cell_type": "markdown",
   "id": "3e0084e1",
   "metadata": {},
   "source": [
    "**Onafhankelijksheidtest**\n",
    "\n",
    "Naast de correlatiematrix kan het ook belangrijk zijn om de onafhankelijkheid te testen tussen elke feature en een label.\n",
    "Dit kan uitgevoerd worden door een zogenaamde ChiSquareTest.\n",
    "Deze krijgt als input een dataframe, de naam van de kolom met de features (als vectors) en de naam van een kolom met de labels.\n",
    "We kunnen deze test uitvoeren als volgt:"
   ]
  },
  {
   "cell_type": "code",
   "execution_count": 30,
   "id": "8412ba8d",
   "metadata": {},
   "outputs": [
    {
     "name": "stdout",
     "output_type": "stream",
     "text": [
      "+--------------------+-----+\n",
      "|              vector|label|\n",
      "+--------------------+-----+\n",
      "|[0.06144433047762...|    1|\n",
      "|[0.34017123795223...|    0|\n",
      "|[0.99968745985386...|    0|\n",
      "|[0.70511928342606...|    0|\n",
      "|[0.95311532191559...|    1|\n",
      "|[0.97426078065520...|    1|\n",
      "|[0.54909611603387...|    1|\n",
      "|[0.21229864713840...|    0|\n",
      "|[0.98718352192669...|    0|\n",
      "|[0.34168355767603...|    0|\n",
      "|[0.98881762557951...|    1|\n",
      "|[0.27595013858474...|    0|\n",
      "|[0.75385193769909...|    0|\n",
      "|[0.11274145386813...|    1|\n",
      "|[0.88892394064739...|    0|\n",
      "|[0.89571609123059...|    0|\n",
      "|[1.63061743859715...|    0|\n",
      "|[0.42835810872380...|    1|\n",
      "|[0.70142065749526...|    0|\n",
      "|[0.97987796133795...|    1|\n",
      "+--------------------+-----+\n",
      "only showing top 20 rows\n",
      "\n",
      "+--------------------------------------------------------------------------------+----------------+--------------------------------------------------------------------------+\n",
      "|pValues                                                                         |degreesOfFreedom|statistics                                                                |\n",
      "+--------------------------------------------------------------------------------+----------------+--------------------------------------------------------------------------+\n",
      "|[0.43343669725576217,0.43343669725576606,0.43343669725576606,0.4334366972557667]|[49, 49, 49, 49]|[49.999999999999986,49.99999999999999,49.99999999999999,49.99999999999998]|\n",
      "+--------------------------------------------------------------------------------+----------------+--------------------------------------------------------------------------+\n",
      "\n"
     ]
    }
   ],
   "source": [
    "# voeg een label-kolom toe aan df_vector\n",
    "from pyspark.sql.functions import rand, when\n",
    "# voor een onafhankelijkheids test hebben we een label nodig dat we proberen te voorspellen\n",
    "# hier nemen we een willekeurig getal 0 of 1 (elk 50% kans)\n",
    "df_label = df.withColumn('label', when(rand() > 0.5, 1).otherwise(0))\n",
    "df_label.show()\n",
    "\n",
    "from pyspark.ml.stat import ChiSquareTest\n",
    "# feature kolom = vector\n",
    "# label kolom = label\n",
    "ind_test = ChiSquareTest.test(df_label, 'vector', 'label')\n",
    "ind_test.show(truncate=False)\n",
    "\n",
    "# pValues -> is er een significant verband tussen de feature en label, significant dat zie je dat de waarde < 0.05\n",
    "# degrees of Freedom -> hoeveel van de waarden er kunnen veranderen zonder dat er een significant verband is\n",
    "       # hoge waarde tov aantal rijen -> geen verband\n",
    "# dit kan je gebruiken om te bepalen welke waarden/features goed gebruikt kunnen worden voor het label te voorspellen"
   ]
  },
  {
   "cell_type": "markdown",
   "id": "e3640d89",
   "metadata": {},
   "source": [
    "**Summarizer**\n",
    "\n",
    "Andere statistieken per kolom kunnen berekend worden door gebruik te maken van de Summarizer klasse:"
   ]
  },
  {
   "cell_type": "code",
   "execution_count": null,
   "id": "3c81a515",
   "metadata": {},
   "outputs": [],
   "source": [
    "from pyspark.ml.stat import Summarizer\n",
    "# zie hierboven"
   ]
  },
  {
   "cell_type": "markdown",
   "id": "ac099f10",
   "metadata": {},
   "source": [
    "Het gebruik maken van de Summarizer maakt het dus mogelijk om rechtstreeks op de feature vectors te werken zonder ze eerst terug te moeten splitsen."
   ]
  },
  {
   "cell_type": "markdown",
   "id": "fa4e0343",
   "metadata": {},
   "source": [
    "### Pipelines\n",
    "\n",
    "Pipelines binnen Spark zijn een groep van high-level API's steunend op Dataframes om ML-pipelines aan te maken, optimaliseren en trainen.\n",
    "De belangrijkste concepten binnen de Pipelines van Spark zijn:\n",
    "* Dataframe: concept van de dataset\n",
    "* Transformer: Zet een dataframe om in een ander dataframe\n",
    "* Estimator: Zet een dataframe om in een model/transformer\n",
    "* Pipeline: een ketting van transformers en estimators om een flow vast te leggen\n",
    "* Parameter: API voor parameters van transformers en estimators aan te passen\n",
    "\n",
    "Gebruik nu onderstaande mini-dataset waar we op basis van een tekstkolom met logistische regressie een bepaald label proberen te voorspellen.\n",
    "Maak hiervoor een Pipeline uit die bestaat uit de volgende stappen:\n",
    "* Tokenizer om de tekstkolom te splitsen in de overeenkomstige woorden\n",
    "* HashingTf om de term frequency van de woorden te bepalen en het om te zetten naar een feature vector\n",
    "* LogisticRegression Estimator om de voorspelling te doen.\n",
    "\n",
    "Train daarna deze pipeline en maak de voorspellingen voor de traningsdata.\n",
    "Hoe accuraat is dit model?"
   ]
  },
  {
   "cell_type": "code",
   "execution_count": 37,
   "id": "5bf87b9e",
   "metadata": {},
   "outputs": [
    {
     "name": "stdout",
     "output_type": "stream",
     "text": [
      "+---+----------------+-----+\n",
      "| id|            text|label|\n",
      "+---+----------------+-----+\n",
      "|  0| a b c d e spark|  1.0|\n",
      "|  1|             b d|  0.0|\n",
      "|  2|     spark f g h|  1.0|\n",
      "|  3|hadoop mapreduce|  0.0|\n",
      "+---+----------------+-----+\n",
      "\n"
     ]
    },
    {
     "name": "stderr",
     "output_type": "stream",
     "text": [
      "\r",
      "[Stage 149:==========================================>              (3 + 1) / 4]\r",
      "\r",
      "                                                                                \r"
     ]
    },
    {
     "name": "stdout",
     "output_type": "stream",
     "text": [
      "+---+----------------+-----+----------------------+----------------------------------------------------------------------------+----------------------------------------+------------------------------------------+----------+\n",
      "|id |text            |label|words                 |features                                                                    |rawPrediction                           |probability                               |prediction|\n",
      "+---+----------------+-----+----------------------+----------------------------------------------------------------------------+----------------------------------------+------------------------------------------+----------+\n",
      "|0  |a b c d e spark |1.0  |[a, b, c, d, e, spark]|(262144,[74920,89530,107107,148981,167694,173558],[1.0,1.0,1.0,1.0,1.0,1.0])|[-5.938819269022638,5.938819269022638]  |[0.0026282134969419354,0.997371786503058] |1.0       |\n",
      "|1  |b d             |0.0  |[b, d]                |(262144,[89530,148981],[1.0,1.0])                                           |[5.620506368991316,-5.620506368991316]  |[0.996390271180111,0.0036097288198889688] |0.0       |\n",
      "|2  |spark f g h     |1.0  |[spark, f, g, h]      |(262144,[36803,173558,209078,228158],[1.0,1.0,1.0,1.0])                     |[-6.1134100250082355,6.1134100250082355]|[0.0022081050570270503,0.9977918949429729]|1.0       |\n",
      "|3  |hadoop mapreduce|0.0  |[hadoop, mapreduce]   |(262144,[132966,198017],[1.0,1.0])                                          |[6.662147148663632,-6.662147148663632]  |[0.9987232337063715,0.0012767662936284951]|0.0       |\n",
      "+---+----------------+-----+----------------------+----------------------------------------------------------------------------+----------------------------------------+------------------------------------------+----------+\n",
      "\n"
     ]
    }
   ],
   "source": [
    "from pyspark.ml import Pipeline\n",
    "from pyspark.ml.classification import LogisticRegression\n",
    "from pyspark.ml.feature import HashingTF, Tokenizer\n",
    "\n",
    "# Prepare training documents from a list of (id, text, label) tuples.\n",
    "training = spark.createDataFrame([\n",
    "    (0, \"a b c d e spark\", 1.0),\n",
    "    (1, \"b d\", 0.0),\n",
    "    (2, \"spark f g h\", 1.0),\n",
    "    (3, \"hadoop mapreduce\", 0.0)\n",
    "], [\"id\", \"text\", \"label\"])\n",
    "training.show()\n",
    "\n",
    "# bij transformers -> ga je heel vaak wat de input kolom(s) en wat de outputkolom(s) is\n",
    "# let op de outputCol nog niet bestaat\n",
    "tokenizer = Tokenizer(inputCol='text', outputCol='words')\n",
    "hasher = HashingTF(inputCol=tokenizer.getOutputCol(), outputCol='features')\n",
    "# hashing tf -> sparse vector met hoeveel keer elk woord voor komt\n",
    "# elk woord wordt ook gehashed zodat een woord omgezet wordt naar een getal\n",
    "# 262144 is het aantal woorden in de kolom / het aantal mogelijke woorden\n",
    "clf = LogisticRegression(maxIter = 10, regParam=0.001)\n",
    "# dit voegt 3 kolommen uit\n",
    "# raw prediction -> voorspelde waarde per klasse\n",
    "# probability -> kans dat het van elke klasse is\n",
    "# prediction -> klasse met de hoogste kans\n",
    "\n",
    "pipeline = Pipeline(stages=[tokenizer, hasher,clf])\n",
    "\n",
    "\n",
    "# fit the pipeline\n",
    "model = pipeline.fit(training)\n",
    "preds = model.transform(training)\n",
    "preds.show(truncate=False)"
   ]
  },
  {
   "cell_type": "markdown",
   "id": "0d7e7af8",
   "metadata": {},
   "source": [
    "### Evalueren van een model\n",
    "\n",
    "In de pyspark.ml package zitten er ook functionaliteiten voor deze modellen te evalueren.\n",
    "Meer informatie hierover vind je [hier](https://spark.apache.org/docs/2.2.0/mllib-evaluation-metrics.html)."
   ]
  },
  {
   "cell_type": "code",
   "execution_count": 38,
   "id": "dd4bd140",
   "metadata": {},
   "outputs": [
    {
     "data": {
      "text/plain": [
       "1.0"
      ]
     },
     "execution_count": 38,
     "metadata": {},
     "output_type": "execute_result"
    }
   ],
   "source": [
    "# evalueren van het model\n",
    "from pyspark.ml.evaluation import BinaryClassificationEvaluator\n",
    "\n",
    "evaluator = BinaryClassificationEvaluator(labelCol='label', rawPredictionCol='rawPrediction')\n",
    "evaluator.evaluate(preds)"
   ]
  },
  {
   "cell_type": "markdown",
   "id": "0a305ea2",
   "metadata": {},
   "source": [
    "### Data sources\n",
    "\n",
    "Door gebruik te maken van de sparkContext kunnen een reeks standaard databronnen ingelezen worden om datasets uit op te bouwen (Csv, Json, ...).\n",
    "Daarnaast is het ook mogelijk om een folder met een reeks beelden te gebruiken als dataset om zo een model voor image classification te trainen.\n",
    "Download nu [deze](https://www.kaggle.com/returnofsputnik/chihuahua-or-muffin) dataset en upload ze naar een folder op het hadoop filesysteem."
   ]
  },
  {
   "cell_type": "code",
   "execution_count": 39,
   "id": "7992c49c",
   "metadata": {},
   "outputs": [
    {
     "name": "stdout",
     "output_type": "stream",
     "text": [
      "Please provide your Kaggle credentials to download this dataset. Learn more: http://bit.ly/kaggle-creds\n",
      "Your Kaggle username: jensbaetensodisee\n",
      "Your Kaggle Key: ········\n"
     ]
    },
    {
     "name": "stderr",
     "output_type": "stream",
     "text": [
      "100%|████████████████████████████████████████| 183k/183k [00:00<00:00, 2.09MB/s]"
     ]
    },
    {
     "name": "stdout",
     "output_type": "stream",
     "text": [
      "Downloading chihuahua-or-muffin.zip to ./chihuahua-or-muffin\n",
      "\n"
     ]
    },
    {
     "name": "stderr",
     "output_type": "stream",
     "text": [
      "\n"
     ]
    }
   ],
   "source": [
    "import opendatasets as od\n",
    "\n",
    "od.download(\"https://www.kaggle.com/returnofsputnik/chihuahua-or-muffin\")"
   ]
  },
  {
   "cell_type": "code",
   "execution_count": 41,
   "id": "e8ab5900",
   "metadata": {},
   "outputs": [
    {
     "name": "stdout",
     "output_type": "stream",
     "text": [
      "/user/bigdata/Spark\n"
     ]
    },
    {
     "data": {
      "text/plain": [
       "0"
      ]
     },
     "execution_count": 41,
     "metadata": {},
     "output_type": "execute_result"
    }
   ],
   "source": [
    "import pydoop.hdfs as hdfs\n",
    "\n",
    "localFS = hdfs.hdfs(host='')\n",
    "client = hdfs.hdfs(host='localhost', port=9000)\n",
    "\n",
    "if not client.exists('/user/bigdata/Spark'):\n",
    "    client.create_directory('/user/bigdata/Spark')\n",
    "client.set_working_directory('/user/bigdata/Spark')\n",
    "print(client.working_directory())\n",
    "      \n",
    "# upload input.txt\n",
    "localFS.copy(\"chihuahua-or-muffin\", client, \"chihuahua-or-muffin\")"
   ]
  },
  {
   "cell_type": "markdown",
   "id": "70542e14",
   "metadata": {},
   "source": [
    "De geuploade images kunnen nu ingelezen worden als volgt:"
   ]
  },
  {
   "cell_type": "code",
   "execution_count": 46,
   "id": "ad93c3d8",
   "metadata": {},
   "outputs": [
    {
     "name": "stdout",
     "output_type": "stream",
     "text": [
      "+----------------------------------------------------------------------------+------+------+\n",
      "|origin                                                                      |height|height|\n",
      "+----------------------------------------------------------------------------+------+------+\n",
      "|hdfs://localhost:9000/user/bigdata/Spark/chihuahua-or-muffin/muffin-4.jpeg  |170   |170   |\n",
      "|hdfs://localhost:9000/user/bigdata/Spark/chihuahua-or-muffin/muffin-7.jpeg  |172   |172   |\n",
      "|hdfs://localhost:9000/user/bigdata/Spark/chihuahua-or-muffin/muffin-1.jpeg  |171   |171   |\n",
      "|hdfs://localhost:9000/user/bigdata/Spark/chihuahua-or-muffin/muffin-8.jpeg  |172   |172   |\n",
      "|hdfs://localhost:9000/user/bigdata/Spark/chihuahua-or-muffin/chihuahua-6.jpg|169   |169   |\n",
      "+----------------------------------------------------------------------------+------+------+\n",
      "only showing top 5 rows\n",
      "\n",
      "root\n",
      " |-- image: struct (nullable = true)\n",
      " |    |-- origin: string (nullable = true)\n",
      " |    |-- height: integer (nullable = true)\n",
      " |    |-- width: integer (nullable = true)\n",
      " |    |-- nChannels: integer (nullable = true)\n",
      " |    |-- mode: integer (nullable = true)\n",
      " |    |-- data: binary (nullable = true)\n",
      "\n"
     ]
    }
   ],
   "source": [
    "df = spark.read.format('image').option('dropInvalid', True).load('Spark/chihuahua-or-muffin')\n",
    "# option dropInvalid negeert bestanden die hij niet kan inlezen als figuur (anders heb je een foutmelding)\n",
    "# in de load moet een directory staan bij figuren\n",
    "df.select('image.origin', 'image.height', 'image.width').show(5,truncate=False)\n",
    "# hierbij is er een onderliggend niveau in het dataframe\n",
    "# aan de kolommen onder image kan je door gebruik te maken van . -> image.origin bvb om aan de origin kolom onder image te geraken\n",
    "df.printSchema()"
   ]
  },
  {
   "cell_type": "markdown",
   "id": "91a67bf4",
   "metadata": {},
   "source": [
    "Merk op dat het werken met images niet zo eenvoudig is.\n",
    "Hiervoor wordt binnen pyspark typisch gebruik gemaakt van de [sparkdl](https://smurching.github.io/spark-deep-learning/site/api/python/sparkdl.html) package.\n",
    "Hierbij staat de dl voor deep learning.\n",
    "Aangezien dit ons momenteel te ver leidt ga ik dit niet verder toelichten."
   ]
  },
  {
   "cell_type": "markdown",
   "id": "b0e4b653",
   "metadata": {},
   "source": [
    "Een andere aparte databron die eenvoudig ingelezen kan worden is het formaat \"libsvm\".\n",
    "Een bestand van dit formaat wordt ingelezen als een dataframe met twee kolommen: een label en een kolom met de feature-vectors.\n",
    "De code om dergelijk bestand in te laden is:"
   ]
  },
  {
   "cell_type": "code",
   "execution_count": null,
   "id": "ee23edf2",
   "metadata": {},
   "outputs": [],
   "source": [
    "df = spark.read.format(\"libsvm\").load(\"{path to file here}\")"
   ]
  }
 ],
 "metadata": {
  "kernelspec": {
   "display_name": "Python 3 (ipykernel)",
   "language": "python",
   "name": "python3"
  },
  "language_info": {
   "codemirror_mode": {
    "name": "ipython",
    "version": 3
   },
   "file_extension": ".py",
   "mimetype": "text/x-python",
   "name": "python",
   "nbconvert_exporter": "python",
   "pygments_lexer": "ipython3",
   "version": "3.8.8"
  },
  "vscode": {
   "interpreter": {
    "hash": "d5e8e3a19af5ceb2434683dff87da6345c3b29f7eb0a8a138558c07d014a01cc"
   }
  }
 },
 "nbformat": 4,
 "nbformat_minor": 5
}
